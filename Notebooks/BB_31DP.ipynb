{
 "cells": [
  {
   "cell_type": "markdown",
   "id": "933f56c0-e98b-4e3d-a618-5b6cb1da4c76",
   "metadata": {},
   "source": [
    "Libraries needed!"
   ]
  },
  {
   "cell_type": "code",
   "execution_count": 2,
   "id": "5c445f5c-09bc-47a8-97df-775999c9736b",
   "metadata": {},
   "outputs": [],
   "source": [
    "import pandas as pd\n",
    "from rdkit import Chem\n",
    "from rdkit.Chem import Draw\n",
    "from rdkit.Chem import AllChem\n",
    "import os\n",
    "from IPython.display import display, Image"
   ]
  },
  {
   "cell_type": "markdown",
   "id": "f1fd58cb-f951-47fd-98db-3d0ca0b3bfc2",
   "metadata": {},
   "source": [
    "31 Discriminative patterns using SMARTSminer on active Cluster 0-11 vs inactive Cluster 0"
   ]
  },
  {
   "cell_type": "code",
   "execution_count": 14,
   "id": "59dba4ef-9175-4e9f-b3eb-bc9b33b1a518",
   "metadata": {},
   "outputs": [
    {
     "name": "stdout",
     "output_type": "stream",
     "text": [
      "\n",
      "Grid image saved as 'all_patterns_grid.png'\n",
      "\n",
      "Processed 31 SMARTS patterns\n",
      "Individual images saved in: ClustDP_struct\n"
     ]
    }
   ],
   "source": [
    "def visualize_smarts_from_excel(excel_file, sheet_name=0, smarts_column=1, output_dir='ClustDP_struct'):\n",
    "    \n",
    "    # Create output directory if it doesn't exist\n",
    "    if not os.path.exists(output_dir):\n",
    "        os.makedirs(output_dir)\n",
    "    \n",
    "    # Read Excel file\n",
    "    try:\n",
    "        df = pd.read_excel(excel_file, sheet_name=sheet_name)\n",
    "    except Exception as e:\n",
    "        print(f\"Error reading Excel file: {str(e)}\")\n",
    "        return\n",
    "    \n",
    "    # Get column name (Excel columns are 1-based)\n",
    "    col_name = df.columns[smarts_column - 1]\n",
    "    \n",
    "    # Create a figure for the grid of molecules\n",
    "    mols = []\n",
    "    labels = []\n",
    "    errors = []\n",
    "    \n",
    "    # Process each SMARTS pattern\n",
    "    for idx, smarts in enumerate(df[col_name], 1):\n",
    "        try:\n",
    "            # Skip empty or non-string values\n",
    "            if pd.isna(smarts) or not isinstance(smarts, str):\n",
    "                continue\n",
    "                \n",
    "            # Convert SMARTS to molecule\n",
    "            mol = Chem.MolFromSmarts(smarts)\n",
    "            \n",
    "            if mol is None:\n",
    "                errors.append(f\"Row {idx}: Invalid SMARTS pattern - {smarts}\")\n",
    "                continue\n",
    "            \n",
    "            # Add molecule and label to lists\n",
    "            mols.append(mol)\n",
    "            labels.append(f\"Pattern {idx}\")\n",
    "            \n",
    "            # Save individual molecule image\n",
    "            img = Draw.MolToImage(mol)\n",
    "            img.save(os.path.join(output_dir, f\"pattern_{idx}.png\"))\n",
    "            \n",
    "        except Exception as e:\n",
    "            errors.append(f\"Row {idx}: Error processing SMARTS - {str(e)}\")\n",
    "    \n",
    "    # Generate and save grid image if molecules were found\n",
    "    if mols:\n",
    "        try:\n",
    "            # Calculate grid dimensions\n",
    "            n_mols = len(mols)\n",
    "            cols = min(4, n_mols)  # Maximum 4 molecules per row\n",
    "            rows = (n_mols + cols - 1) // cols\n",
    "            \n",
    "            # Create grid image\n",
    "            img = Draw.MolsToGridImage(\n",
    "                mols,\n",
    "                molsPerRow=cols,\n",
    "                subImgSize=(300, 300),\n",
    "                legends=labels,\n",
    "                returnPNG=False\n",
    "            )\n",
    "            # Save grid image\n",
    "            img.save(os.path.join(output_dir, \"all_patterns_grid.png\"))\n",
    "            print(f\"\\nGrid image saved as 'all_patterns_grid.png'\")\n",
    "            \n",
    "        except Exception as e:\n",
    "            print(f\"Error generating grid image: {str(e)}\")\n",
    "    \n",
    "    # Print summary\n",
    "    print(f\"\\nProcessed {len(mols)} SMARTS patterns\")\n",
    "    print(f\"Individual images saved in: {output_dir}\")\n",
    "    \n",
    "    # Print any errors that occurred\n",
    "    if errors:\n",
    "        print(\"\\nErrors encountered:\")\n",
    "        for error in errors:\n",
    "            print(error)\n",
    "\n",
    "# Example usage\n",
    "if __name__ == \"__main__\":\n",
    "    # Replace with your Excel file path\n",
    "    excel_file = \"Clustered_DP.xlsx\"\n",
    "    \n",
    "    visualize_smarts_from_excel(\n",
    "        excel_file=excel_file,\n",
    "        sheet_name=0,  # First sheet\n",
    "        smarts_column=1,  # Column A\n",
    "        output_dir='ClustDP_struct'\n",
    "    )"
   ]
  },
  {
   "cell_type": "code",
   "execution_count": null,
   "id": "ba1b3e33-df33-4065-b75b-57493be4dbfa",
   "metadata": {},
   "outputs": [],
   "source": []
  }
 ],
 "metadata": {
  "kernelspec": {
   "display_name": "Python 3 (ipykernel)",
   "language": "python",
   "name": "python3"
  },
  "language_info": {
   "codemirror_mode": {
    "name": "ipython",
    "version": 3
   },
   "file_extension": ".py",
   "mimetype": "text/x-python",
   "name": "python",
   "nbconvert_exporter": "python",
   "pygments_lexer": "ipython3",
   "version": "3.12.0"
  }
 },
 "nbformat": 4,
 "nbformat_minor": 5
}
